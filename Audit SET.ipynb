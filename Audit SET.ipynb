{
 "cells": [
  {
   "cell_type": "markdown",
   "id": "ffab55e2",
   "metadata": {},
   "source": [
    "# [beta.gouv.fr] Audit des SE\n",
    "\n",
    "_Utiliser l'API du site beta.gouv.fr pour générer des statistiques de suivi._"
   ]
  },
  {
   "cell_type": "code",
   "execution_count": 1,
   "id": "613346cd",
   "metadata": {},
   "outputs": [],
   "source": [
    "import pandas as pd\n",
    "import requests\n",
    "from IPython.display import Markdown\n",
    "from datetime import datetime"
   ]
  },
  {
   "cell_type": "code",
   "execution_count": 2,
   "id": "ab0cd5c7",
   "metadata": {},
   "outputs": [],
   "source": [
    "API_VERSION = \"v2.5\"\n",
    "api_url = f\"https://beta.gouv.fr/api/{API_VERSION}/startups.json\"\n",
    "\n",
    "# read data from beta.gouv.fr API\n",
    "r = requests.get(api_url)\n",
    "json_data = r.json()\n",
    "data = pd.DataFrame(json_data[\"data\"])[\"attributes\"].apply(pd.Series)\n",
    "\n",
    "# \"compute\" the current phase of the SE\n",
    "data[\"current_phase\"] = data.phases.apply(lambda x: x[-1][\"name\"])\n",
    "\n",
    "# compute stats page boolean\n",
    "data[\"missing_stats\"] = data.stats_url.isna()\n",
    "data[\"missing_budget\"] = data.budget_url.isna()\n",
    "data[\"missing_os\"] = data.repository.isna()\n",
    "data[\"missing_dashlord\"] = data.dashlord_url.isna()"
   ]
  },
  {
   "cell_type": "code",
   "execution_count": 3,
   "id": "94065acb",
   "metadata": {},
   "outputs": [],
   "source": [
    "output_string = f\"\"\"\n",
    "# Audit SE\n",
    "\n",
    "```\n",
    "source : {api_url}\n",
    "\n",
    "date : {datetime.now()}\n",
    "\n",
    "total SE : {len(data)}\n",
    "```\n",
    "\"\"\""
   ]
  },
  {
   "cell_type": "code",
   "execution_count": 4,
   "id": "5368a3d4",
   "metadata": {},
   "outputs": [],
   "source": [
    "for phase in [\"success\", \"transfer\", \"acceleration\", \"construction\"]:\n",
    "    _data = data.query(f\"current_phase == '{phase}'\")\n",
    "    output_string += \"\"\"\n",
    "----\n",
    "## Startups d'Etat en \"{phase}\"\n",
    "\n",
    "### pages stats manquantes : {stats_missing_count} / {length}\n",
    "{stats_missing_list}\n",
    "\n",
    "### code non-ouvert : {os_missing_count} / {length}\n",
    "{os_missing_list}\n",
    "\n",
    "### non suivi sur Dashlord : {dl_missing_count} / {length}\n",
    "{dl_missing_list}\n",
    "\n",
    "### pages budget manquantes : {budget_missing_count} / {length}\n",
    "{budget_missing_list}\n",
    "    \"\"\".format(\n",
    "        phase = phase,\n",
    "        stats_missing_count = _data.missing_stats.sum(),\n",
    "        length = len(_data),\n",
    "        stats_missing_list = ', '.join([f\"`{name}`\" for name in _data[_data.missing_stats].name]),\n",
    "        os_missing_count = _data.missing_os.sum(),\n",
    "        os_missing_list = ', '.join([f\"`{name}`\" for name in _data[_data.missing_os].name]),\n",
    "        dl_missing_count = _data.missing_dashlord.sum(),\n",
    "        dl_missing_list = ', '.join([f\"`{name}`\" for name in _data[_data.missing_dashlord].name]),\n",
    "        budget_missing_count = _data.missing_budget.sum(),\n",
    "        budget_missing_list = ', '.join([f\"`{name}`\" for name in _data[_data.missing_budget].name]),\n",
    "    )"
   ]
  },
  {
   "cell_type": "code",
   "execution_count": 5,
   "id": "96dd6abe",
   "metadata": {
    "scrolled": false
   },
   "outputs": [
    {
     "data": {
      "text/markdown": [
       "\n",
       "# Audit SE\n",
       "\n",
       "```\n",
       "source : https://beta.gouv.fr/api/v2.5/startups.json\n",
       "\n",
       "date : 2022-04-26 17:06:06.449262\n",
       "\n",
       "total SE : 334\n",
       "```\n",
       "\n",
       "----\n",
       "## Startups d'Etat en \"success\"\n",
       "\n",
       "### pages stats manquantes : 2 / 22\n",
       "`LexImpact`, `Pass Culture`\n",
       "\n",
       "### code non-ouvert : 1 / 22\n",
       "`Maintenant!`\n",
       "\n",
       "### non suivi sur Dashlord : 20 / 22\n",
       "`L’Annuaire des Entreprises`, `Anotea`, `API Entreprise`, `API Particulier`, `Clara`, `Code du travail numérique`, `data.gouv.fr`, `Démarches Simplifiées`, `E-contrôle`, `eva (ex Compétences pro)`, `La Bonne Alternance`, `La Bonne Boite`, `La Bonne Formation`, `LexImpact`, `Maintenant!`, `Mes remboursements simplifiés (MRS)`, `Pass Culture`, `Pix`, `SignalConso`, `transport.data.gouv.fr`\n",
       "\n",
       "### pages budget manquantes : 21 / 22\n",
       "`L’Annuaire des Entreprises`, `Anotea`, `API Entreprise`, `API Particulier`, `api.gouv.fr`, `Clara`, `Code du travail numérique`, `data.gouv.fr`, `Démarches Simplifiées`, `E-contrôle`, `eva (ex Compétences pro)`, `La Bonne Alternance`, `La Bonne Boite`, `La Bonne Formation`, `LexImpact`, `Maintenant!`, `Mes remboursements simplifiés (MRS)`, `Pass Culture`, `Pix`, `SignalConso`, `transport.data.gouv.fr`\n",
       "    \n",
       "----\n",
       "## Startups d'Etat en \"transfer\"\n",
       "\n",
       "### pages stats manquantes : 3 / 9\n",
       "`CoMobi (ex Lotocar)`, `PARTAJ`, `Polex`\n",
       "\n",
       "### code non-ouvert : 1 / 9\n",
       "`Polex`\n",
       "\n",
       "### non suivi sur Dashlord : 9 / 9\n",
       "`Avril`, `Base Adresse Nationale`, `Camino`, `CoMobi (ex Lotocar)`, `Datagir (ex Ecolab)`, `OpenFisca`, `PARTAJ`, `Polex`, `Résorption Bidonvilles`\n",
       "\n",
       "### pages budget manquantes : 9 / 9\n",
       "`Avril`, `Base Adresse Nationale`, `Camino`, `CoMobi (ex Lotocar)`, `Datagir (ex Ecolab)`, `OpenFisca`, `PARTAJ`, `Polex`, `Résorption Bidonvilles`\n",
       "    \n",
       "----\n",
       "## Startups d'Etat en \"acceleration\"\n",
       "\n",
       "### pages stats manquantes : 8 / 42\n",
       "`Classe à 12`, `Conseiller Numérique`, `e-Chauffeur`, `Mes événements Emploi`, `Mon stage de 3e`, `NC Connect`, `Service National Universel`, `Tchap`\n",
       "\n",
       "### code non-ouvert : 5 / 42\n",
       "`API Engagement`, `Guichet-entreprises.nc`, `Mes événements Emploi`, `NC Connect`, `TuMePlay`\n",
       "\n",
       "### non suivi sur Dashlord : 15 / 42\n",
       "`API Engagement`, `Administration+`, `Conseiller Numérique`, `data.insertion`, `e-Chauffeur`, `e-MJPM`, `ESTIME`, `Fiche Commune Entreprise`, `Guichet-entreprises.nc`, `Mes événements Emploi`, `Mobiville`, `Mon Suivi Psy`, `NC Connect`, `Signaux Faibles`, `Tchap`\n",
       "\n",
       "### pages budget manquantes : 42 / 42\n",
       "`Acceslibre`, `Aidants Connect`, `Aides-territoires`, `API Engagement`, `Administration+`, `Carnet de bord`, `Catalogue des formations en apprentissage`, `Civils de la Défense`, `Classe à 12`, `Conseiller Numérique`, `data.insertion`, `DataPass`, `DomiFa`, `DORA`, `e-Chauffeur`, `e-MJPM`, `ESTIME`, `Fiche Commune Entreprise`, `Guichet-entreprises.nc`, `Histologe`, `Emplois de l'inclusion (ITOU)`, `JeVeuxAider.gouv.fr`, `RDV Solidarités`, `Le Taxi`, `DossierFacile`, `MANO`, `Mes événements Emploi`, `Mobilic`, `Mobiville`, `Mon stage de 3e`, `Mon Suivi Psy`, `NC Connect`, `Open Terms Archive`, `Marché de l'inclusion (ITOU)`, `Place des Entreprises`, `Registre de preuve de covoiturage`, `Santé Psy Étudiant`, `Signaux Faibles`, `Service National Universel`, `Tchap`, `Trackdéchets`, `TuMePlay`\n",
       "    \n",
       "----\n",
       "## Startups d'Etat en \"construction\"\n",
       "\n",
       "### pages stats manquantes : 49 / 73\n",
       "`Mon suivi social`, `Part'âge`, `A-JUST`, `ANAIS`, `Info Parquet`, `Boursoloco`, `Cassiopée`, `France Chaleur Urbaine`, `Commun Orientation`, `Compétence Validée`, `Culture chez Nous`, `Data.Subvention`, `Dédale`, `Delta V`, `Le contrat d'apprentissage dématérialisé pour les employeurs publics`, `Deveco`, `DIDOC`, `Docurba`, `Dotations locales`, `Encyclopédie des métiers`, `Enfants Du Spectacle`, `Euphrosyne`, `FEDEL-DM`, `Mon Service Sécurisé`, `Lab Agora`, `Infrastructures numériques`, `Jaden Gwadloup`, `Les Alpps`, `Médiature`, `Mes autorisations de stationnement`, `METIIS`, `Mission Transition Ecologique`, `MonitorFish`, `Octopus`, `PSIJ`, `RDV Apprentissage`, `REVA`, `SEPIA`, `Sirius`, `SNDV - Maritime - MOANA`, `SPARTE`, `SPPNaut`, `STARGATE`, `Tableau de bord Apprentissage`, `Tout est permis`, `Tutorat pour les concours de la fonction publique`, `Le référentiel UAI-SIRET`, `Usine à chatbots`, `Zéro Logement Vacant`\n",
       "\n",
       "### code non-ouvert : 38 / 73\n",
       "`Mon suivi social`, `Part'âge`, `ANAIS`, `Info Parquet`, `Boursoloco`, `Cassiopée`, `France Chaleur Urbaine`, `Commun Orientation`, `Compétence Validée`, `Culture chez Nous`, `Dédale`, `Delta V`, `Le contrat d'apprentissage dématérialisé pour les employeurs publics`, `Deveco`, `DIDOC`, `Docurba`, `Encyclopédie des métiers`, `FEDEL-DM`, `Infrastructures numériques`, `Jaden Gwadloup`, `Les Alpps`, `Médiature`, `METIIS`, `Mission Transition Ecologique`, `Octopus`, `PSIJ`, `REVA`, `SEPIA`, `Sirius`, `SNDV - Maritime - MOANA`, `SPARTE`, `SPPNaut`, `STARGATE`, `Tableau de bord Apprentissage`, `Tout est permis`, `Tutorat pour les concours de la fonction publique`, `Le référentiel UAI-SIRET`, `Usine à chatbots`\n",
       "\n",
       "### non suivi sur Dashlord : 70 / 73\n",
       "`1000 premiers jours`, `Mon suivi social`, `Part'âge`, `A-JUST`, `ANAIS`, `APiLos`, `Archifiltre`, `Info Parquet`, `Boursoloco`, `Carbure`, `Cassiopée`, `France Chaleur Urbaine`, `Collectif Objets`, `Commun Orientation`, `Compétence Validée`, `Culture chez Nous`, `Data.Subvention`, `Dédale`, `Delta V`, `Le contrat d'apprentissage dématérialisé pour les employeurs publics`, `Deveco`, `DIDOC`, `Disinfo`, `Docurba`, `Dotations locales`, `Elles font la Culture`, `Encyclopédie des métiers`, `Enfants Du Spectacle`, `EnvErgo`, `Euphrosyne`, `FEDEL-DM`, `Mon Service Sécurisé`, `Lab Agora`, `Infrastructures numériques`, `Jaden Gwadloup`, `Mon Suivi Justice`, `L'application du CEJ`, `Immersion facilitée`, `Communauté de l'inclusion (ITOU)`, `Les Alpps`, `Ma Cantine`, `Matcha`, `Médiature`, `Mes autorisations de stationnement`, `Métiers Numériques`, `METIIS`, `Mission Transition Ecologique`, `MonitorFish`, `Octopus`, `Oz Ensemble`, `Pilotage de l'inclusion (ITOU)`, `Potentiel`, `PSIJ`, `RDV Apprentissage`, `Recosanté`, `REVA`, `SEPIA`, `Sirius`, `SNDV - Maritime - MOANA`, `SPARTE`, `SPPNaut`, `STARGATE`, `Tableau de bord Apprentissage`, `Territoires en Transitions`, `Tout est permis`, `Tutorat pour les concours de la fonction publique`, `Le référentiel UAI-SIRET`, `UrbanVitaliz (Friches)`, `Usine à chatbots`, `Zéro Logement Vacant`\n",
       "\n",
       "### pages budget manquantes : 73 / 73\n",
       "`1000 premiers jours`, `Mon suivi social`, `Part'âge`, `A-JUST`, `Aides Jeunes`, `ANAIS`, `APiLos`, `Archifiltre`, `Info Parquet`, `Boursoloco`, `Carbure`, `Cartobio`, `Cassiopée`, `France Chaleur Urbaine`, `Collectif Objets`, `Commun Orientation`, `Compétence Validée`, `Culture chez Nous`, `Data.Subvention`, `Dédale`, `Delta V`, `Le contrat d'apprentissage dématérialisé pour les employeurs publics`, `Deveco`, `DIDOC`, `Disinfo`, `Docurba`, `Dotations locales`, `Elles font la Culture`, `Encyclopédie des métiers`, `Enfants Du Spectacle`, `EnvErgo`, `Euphrosyne`, `FEDEL-DM`, `Mon Service Sécurisé`, `Lab Agora`, `Infrastructures numériques`, `Jaden Gwadloup`, `Mon Suivi Justice`, `L'application du CEJ`, `Immersion facilitée`, `Communauté de l'inclusion (ITOU)`, `Les Alpps`, `Ma Cantine`, `Matcha`, `Médiature`, `Mes autorisations de stationnement`, `Métiers Numériques`, `METIIS`, `Mission Transition Ecologique`, `MonitorFish`, `Octopus`, `Oz Ensemble`, `Pilotage de l'inclusion (ITOU)`, `Potentiel`, `PSIJ`, `RDV Apprentissage`, `Recosanté`, `REVA`, `SEPIA`, `Sirius`, `SNDV - Maritime - MOANA`, `SPARTE`, `SPPNaut`, `STARGATE`, `Tableau de bord Apprentissage`, `Territoires en Transitions`, `Tout est permis`, `Tutorat pour les concours de la fonction publique`, `Le référentiel UAI-SIRET`, `UrbanVitaliz (Friches)`, `Usine à chatbots`, `Wikicarbone`, `Zéro Logement Vacant`\n",
       "    "
      ],
      "text/plain": [
       "<IPython.core.display.Markdown object>"
      ]
     },
     "execution_count": 5,
     "metadata": {},
     "output_type": "execute_result"
    }
   ],
   "source": [
    "Markdown(output_string)"
   ]
  },
  {
   "cell_type": "code",
   "execution_count": null,
   "id": "41853ab3",
   "metadata": {},
   "outputs": [],
   "source": []
  }
 ],
 "metadata": {
  "kernelspec": {
   "display_name": "product-audit",
   "language": "python",
   "name": "product-audit"
  },
  "language_info": {
   "codemirror_mode": {
    "name": "ipython",
    "version": 3
   },
   "file_extension": ".py",
   "mimetype": "text/x-python",
   "name": "python",
   "nbconvert_exporter": "python",
   "pygments_lexer": "ipython3",
   "version": "3.9.0"
  }
 },
 "nbformat": 4,
 "nbformat_minor": 5
}
